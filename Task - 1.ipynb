{
 "cells": [
  {
   "cell_type": "markdown",
   "id": "6e296d64",
   "metadata": {},
   "source": [
    "## Basic Git Commands"
   ]
  },
  {
   "cell_type": "markdown",
   "id": "f48c1452",
   "metadata": {},
   "source": [
    "### 1. Git Init - \n",
    "\n",
    "<br>\n",
    "<img src = \"images/Screenshot 2022-10-05 at 2.36.15 PM.png\" width = 500 height = 500>\n",
    "<br>\n",
    "\n",
    "``` This command is used to initialize an empty new repository in our local machine.```\n",
    "\n",
    "### 2. git remote add origin < remote github https/ssh code>\n",
    "\n",
    "<br>\n",
    "<img src = \"images/Screenshot 2022-10-05 at 2.38.55 PM.png\">\n",
    "<br>\n",
    "\n",
    "``` This command is used to connect local git repositary to remote github repository```\n",
    "\n",
    "### 3. git pull origin main\n",
    "\n",
    "<br>\n",
    "<img src = \"images/Screenshot 2022-10-05 at 2.39.52 PM.png\">\n",
    "<br>\n",
    "\n",
    "``` This command is used to pull files and codes basically changes from github remote branch to local branch. ```\n",
    "\n",
    "### 4. git branch\n",
    "\n",
    "<br>\n",
    "<img src = \"images/Screenshot 2022-10-05 at 2.40.21 PM.png\">\n",
    "<br>\n",
    "\n",
    "``` Git branch command is used to list all branches and * pointer points on current working branch```\n",
    "\n",
    "### 5. git checkout -b branchname \n",
    "\n",
    "<br>\n",
    "<img src = \"images/Screenshot 2022-10-05 at 2.42.20 PM.png\">\n",
    "<br>\n",
    "\n",
    "<br>\n",
    "<img src = \"images/Screenshot 2022-10-05 at 2.42.48 PM.png\">\n",
    "<br>\n",
    "\n",
    "``` Git checkout -b <branchname> command is used to create a new branch with name <branchname> and switch to new branch that is <branchname>.\n",
    "git checkout <branchname> command is used to switch to existing <branchname>.```"
   ]
  },
  {
   "cell_type": "markdown",
   "id": "75cb8856",
   "metadata": {},
   "source": [
    "### 6. git switch branchname\n",
    "\n",
    "<br>\n",
    "<img src = \"images/Screenshot 2022-10-05 at 2.43.03 PM.png\">\n",
    "<br>\n",
    "\n",
    "```git switch <branchname> command is used to switch to existing branch <branchname>```"
   ]
  },
  {
   "cell_type": "code",
   "execution_count": null,
   "id": "1641a178",
   "metadata": {},
   "outputs": [],
   "source": []
  },
  {
   "cell_type": "code",
   "execution_count": null,
   "id": "f2214f30",
   "metadata": {},
   "outputs": [],
   "source": []
  },
  {
   "cell_type": "code",
   "execution_count": null,
   "id": "ee8c3448",
   "metadata": {},
   "outputs": [],
   "source": []
  },
  {
   "cell_type": "code",
   "execution_count": 1,
   "id": "007c97c9",
   "metadata": {},
   "outputs": [],
   "source": [
    "import os\n",
    "def fun(path):\n",
    "    rt = os.path.split(path)\n",
    "    print(\"<br>\")\n",
    "    print('<img src = \"images/'+rt[1]+'\">')\n",
    "    print(\"<br>\")"
   ]
  },
  {
   "cell_type": "code",
   "execution_count": 8,
   "id": "44e70cbf",
   "metadata": {},
   "outputs": [
    {
     "name": "stdout",
     "output_type": "stream",
     "text": [
      "<br>\n",
      "<img src = \"images/Screenshot 2022-10-05 at 2.43.03 PM.png\">\n",
      "<br>\n"
     ]
    }
   ],
   "source": [
    "path=\"/Users/ravitiwari/Codes/Assignments/images/Screenshot 2022-10-05 at 2.43.03 PM.png\"\n",
    "fun(path)"
   ]
  },
  {
   "cell_type": "code",
   "execution_count": null,
   "id": "2646c76d",
   "metadata": {},
   "outputs": [],
   "source": []
  }
 ],
 "metadata": {
  "kernelspec": {
   "display_name": "Python 3.8.9 64-bit",
   "language": "python",
   "name": "python3"
  },
  "language_info": {
   "codemirror_mode": {
    "name": "ipython",
    "version": 3
   },
   "file_extension": ".py",
   "mimetype": "text/x-python",
   "name": "python",
   "nbconvert_exporter": "python",
   "pygments_lexer": "ipython3",
   "version": "3.8.9"
  },
  "vscode": {
   "interpreter": {
    "hash": "31f2aee4e71d21fbe5cf8b01ff0e069b9275f58929596ceb00d14d90e3e16cd6"
   }
  }
 },
 "nbformat": 4,
 "nbformat_minor": 5
}
