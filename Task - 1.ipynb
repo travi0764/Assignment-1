{
 "cells": [
  {
   "cell_type": "markdown",
   "id": "a811d079",
   "metadata": {},
   "source": [
    "## Basic Git Commands"
   ]
  },
  {
   "cell_type": "markdown",
   "id": "2cb40b82",
   "metadata": {},
   "source": [
    "### 1. Git Init - \n",
    "\n",
    "<br>\n",
    "<img src = \"images/Screenshot 2022-10-05 at 2.36.15 PM.png\">\n",
    "<br>\n",
    "\n",
    "``` This command is used to initialize an empty new git repository in our local machine.```\n",
    "\n",
    "### 2. git remote add origin < remote github https/ssh code>\n",
    "\n",
    "<br>\n",
    "<img src = \"images/Screenshot 2022-10-05 at 2.38.55 PM.png\">\n",
    "<br>\n",
    "\n",
    "``` This command is used to connect local git repositary to remote github repository```\n",
    "\n",
    "### 3. git pull origin main\n",
    "\n",
    "<br>\n",
    "<img src = \"images/Screenshot 2022-10-05 at 2.39.52 PM.png\">\n",
    "<br>\n",
    "\n",
    "``` This command is used to pull files and codes basically changes from github remote branch to local branch. ```\n",
    "\n",
    "### 4. git branch\n",
    "\n",
    "<br>\n",
    "<img src = \"images/Screenshot 2022-10-05 at 2.40.21 PM.png\">\n",
    "<br>\n",
    "\n",
    "``` Git branch command is used to list all branches and * pointer points on current working branch```\n",
    "\n",
    "### 5. git checkout -b branchname \n",
    "\n",
    "<br>\n",
    "<img src = \"images/Screenshot 2022-10-05 at 2.42.20 PM.png\">\n",
    "<br>\n",
    "\n",
    "<br>\n",
    "<img src = \"images/Screenshot 2022-10-05 at 2.42.48 PM.png\">\n",
    "<br>\n",
    "\n",
    "``` Git checkout -b <branchname> command is used to create a new branch with name <branchname> and switch to new branch that is <branchname>.\n",
    "git checkout <branchname> command is used to switch to existing <branchname>.```"
   ]
  },
  {
   "cell_type": "markdown",
   "id": "c7ea1f6d",
   "metadata": {},
   "source": [
    "### 6. git switch branchname\n",
    "\n",
    "<br>\n",
    "<img src = \"images/Screenshot 2022-10-05 at 2.43.03 PM.png\">\n",
    "<br>\n",
    "\n",
    "```git switch <branchname> command is used to switch to existing branch <branchname>```\n",
    "\n",
    "### 7. git status \n",
    "\n",
    "<br>\n",
    "<img src = \"images/Screenshot 2022-10-05 at 3.18.28 PM.png\">\n",
    "<br>\n",
    "\n",
    "``` Git status command is used to list all the files that we have changed and those we still need to add or commit.```\n",
    "\n",
    "### 8. Git add \n",
    "\n",
    "<br>\n",
    "<img src = \"images/Screenshot 2022-10-05 at 3.19.52 PM.png\">\n",
    "<br>\n",
    "\n",
    "```git add command adds one or more files to the staging area.```\n",
    "\n",
    "### 9. Git restore staged\n",
    "\n",
    "<br>\n",
    "<img src = \"images/Screenshot 2022-10-05 at 3.20.27 PM.png\">\n",
    "<br>\n",
    "\n",
    "```Git restore staged command is used to restore one or more staged file from stagging area.```\n",
    "\n",
    "### 10. git branch -d branchname\n",
    "\n",
    "<br>\n",
    "<img src = \"images/Screenshot 2022-10-05 at 3.17.06 PM.png\">\n",
    "<br>\n",
    "\n",
    "``` This command is used to delete branch <branchname> from local git repository.```\n",
    "\n",
    "### 11. git commit -m \"message\"\n",
    "\n",
    "<br>\n",
    "<img src = \"images/Screenshot 2022-10-05 at 3.21.29 PM.png\">\n",
    "<br>\n",
    "\n",
    "``` This git commit command Commits changes to local head (but not yet to the remote repository).```\n",
    "\n",
    "### 12. git push origin main\n",
    "\n",
    "<br>\n",
    "<img src = \"images/Screenshot 2022-10-05 at 3.21.57 PM.png\">\n",
    "<br>\n",
    "\n",
    "```This git command sends changes to the main branch of your remote repository. This basically merges head/local to head/remote.```\n",
    "\n",
    "### 13. git diff\n",
    "\n",
    "<br>\n",
    "<img src = \"images/Screenshot 2022-10-05 at 3.36.44 PM.png\">\n",
    "<br>\n",
    "\n",
    "``` This git command shows the file differences which are not yet staged.```\n",
    "\n",
    "### 14. git log\n",
    "\n",
    "<br>\n",
    "<img src = \"images/Screenshot 2022-10-05 at 3.37.49 PM.png\">\n",
    "<br>\n",
    "\n",
    "``` Git log command is used to list the version history for the current branch. It logs all the commits of current branch.```\n",
    "\n",
    "### 15. Git show [commit]\n",
    "\n",
    "<br>\n",
    "<img src = \"images/Screenshot 2022-10-05 at 3.38.37 PM.png\">\n",
    "<br>\n",
    "\n",
    "``` This git show <commit id> command is used to show metadata and content changes of the specified commit.```"
   ]
  },
  {
   "cell_type": "code",
   "execution_count": null,
   "id": "6757e70e",
   "metadata": {},
   "outputs": [],
   "source": []
  },
  {
   "cell_type": "code",
   "execution_count": null,
   "id": "1c0e115a",
   "metadata": {},
   "outputs": [],
   "source": []
  },
  {
   "cell_type": "code",
   "execution_count": null,
   "id": "387a9e22",
   "metadata": {},
   "outputs": [],
   "source": []
  },
  {
   "cell_type": "code",
   "execution_count": 1,
   "id": "3069c2e8",
   "metadata": {},
   "outputs": [],
   "source": [
    "import os\n",
    "def fun(path):\n",
    "    rt = os.path.split(path)\n",
    "    print(\"<br>\")\n",
    "    print('<img src = \"images/'+rt[1]+'\">')\n",
    "    print(\"<br>\")"
   ]
  },
  {
   "cell_type": "code",
   "execution_count": 17,
   "id": "af5351e8",
   "metadata": {},
   "outputs": [
    {
     "name": "stdout",
     "output_type": "stream",
     "text": [
      "<br>\n",
      "<img src = \"images/Screenshot 2022-10-05 at 3.38.37 PM.png\">\n",
      "<br>\n"
     ]
    }
   ],
   "source": [
    "path=\"/Users/ravitiwari/Codes/Assignments/images/Screenshot 2022-10-05 at 3.38.37 PM.png\"\n",
    "fun(path)"
   ]
  },
  {
   "cell_type": "code",
   "execution_count": null,
   "id": "7c2626fb",
   "metadata": {},
   "outputs": [],
   "source": []
  }
 ],
 "metadata": {
  "kernelspec": {
   "display_name": "Python 3 (ipykernel)",
   "language": "python",
   "name": "python3"
  },
  "language_info": {
   "codemirror_mode": {
    "name": "ipython",
    "version": 3
   },
   "file_extension": ".py",
   "mimetype": "text/x-python",
   "name": "python",
   "nbconvert_exporter": "python",
   "pygments_lexer": "ipython3",
   "version": "3.9.10"
  }
 },
 "nbformat": 4,
 "nbformat_minor": 5
}
